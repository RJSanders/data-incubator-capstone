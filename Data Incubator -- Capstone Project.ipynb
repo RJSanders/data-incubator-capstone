{
 "cells": [
  {
   "cell_type": "markdown",
   "metadata": {},
   "source": [
    "# Project Outline\n",
    "\n",
    "The structure of the discussion and content aggregation website Reddit provides\n",
    "an opportunity to study communities in a quantitative way, abstracted from the\n",
    "particulars of discussions within each community. By examining the upvotes and\n",
    "downvotes associated with the posts in a subreddit, one can estimate the degree\n",
    "of consensus or controversy within a community. With additional information in\n",
    "the form of votes by particular users, one can likewise describe the users of a\n",
    "particular subreddit in numerical terms.\n",
    "\n",
    "Questions of interest include the following:\n",
    "\n",
    "- How popular or controversial is a given post?\n",
    "- How likely are users within a community to vote according to the consensus?\n",
    "- Are upvotes or downvotes more common within a subreddit, and to what degree?\n",
    "- How positive or negative is a particular user's voting patterns? Do these\n",
    "  patterns vary by subreddit?\n",
    "\n",
    "The goal of this project is to answer such questions and thereby construct\n",
    "profiles of communities within Reddit.\n",
    "\n",
    "## About the Data\n",
    "\n",
    "This data was downloaded from a \n",
    "[publicly available dataset](https://www.kaggle.com/josephleake/huge-collection-of-reddit-votes/) \n",
    "originally gathered and published by Joseph Leake. It consists of two files: \n",
    "submission_info.txt and submission_info.txt and 44_million_votes.txt. Both are \n",
    "tab-separated data files. The rows of the first file correspond to votes, and the\n",
    "columns consist of submission ID, the subreddit where the submission was posted,\n",
    "the time at which the vote was made, the username of the person who voted, and\n",
    "whether the vote was positive or negative. The rows of the second file correspond\n",
    "to the submissions being voted on, with columns for the submission ID, the subreddit\n",
    "where the submission was posted, the submission title, the submission author,\n",
    "the number of comments under the submission, whether the submission is marked as\n",
    "NSFW (not safe for work), the submission's overall score, the percentage of\n",
    "upvotes, and the submission URL.\n"
   ]
  },
  {
   "cell_type": "code",
   "execution_count": null,
   "metadata": {
    "scrolled": true
   },
   "outputs": [],
   "source": [
    "# Use the data files to generate a CSV whose rows are the unique subreddits in the \n",
    "# dataset, with columns for the number of votes and submissions in each subreddit.\n",
    "\n",
    "import csv\n",
    "\n",
    "# The subreddits dict will contain the unique subreddits as keys. Values are to be \n",
    "# lists, with the number of submissions as the first entry and the number of votes as \n",
    "# the second entry.\n",
    "subreddits = {}\n",
    "\n",
    "# Read submission_info.txt to populate the subreddits dict and count the submissions\n",
    "# by subreddit.\n",
    "with open('./data/submission_info.txt', encoding=\"utf8\", newline='') as submissions:\n",
    "    reader = csv.DictReader(submissions, delimiter='\\t')\n",
    "    for row in reader:\n",
    "        if row['SUBREDDIT'] not in subreddits: subreddits[row['SUBREDDIT']] = [1,0]\n",
    "        else: subreddits[row['SUBREDDIT']][0] += 1\n",
    "        \n",
    "# Count the number of votes per subreddit.\n",
    "with open('./data/44_million_votes.txt', encoding=\"utf8\", newline='') as votes:\n",
    "    reader = csv.DictReader(votes, delimiter='\\t')\n",
    "    for row in reader:\n",
    "        subreddit_name = row['SUBREDDIT'][2:]\n",
    "        if subreddit_name not in subreddits: subreddits[subreddit_name] = [0,1]\n",
    "        else: subreddits[subreddit_name][1] += 1\n",
    "\n",
    "# Use the subreddits dict to create a list of tuples.\n",
    "subreddits_list = []\n",
    "for subreddit in subreddits:\n",
    "    subreddits_list.append((subreddit, subreddits[subreddit][0], \n",
    "                           subreddits[subreddit][1]))\n",
    "\n",
    "# The list is sorted first by the number of votes (descending), then by the number of \n",
    "# submissions (descending), and finally alphabetically by subreddit name (ascending).\n",
    "subreddits_list.sort(key=lambda subreddit: (-subreddit[2],-subreddit[1],subreddit[0]))\n",
    "\n",
    "# Write the CSV file with the desired information.\n",
    "with open('./data/subreddits.csv', 'w') as file:\n",
    "    file.write('SUBREDDITS,SUBMISSIONS,VOTES')\n",
    "    for subreddit in subreddits_list:\n",
    "        line = (subreddit[0], str(subreddit[1]), str(subreddit[2]))\n",
    "        file.write('\\n' + ','.join(line))"
   ]
  },
  {
   "cell_type": "code",
   "execution_count": 1,
   "metadata": {},
   "outputs": [],
   "source": [
    "# Obtain the labels and data required for a bar graph of the top five subreddits.\n",
    "\n",
    "import csv\n",
    "# import matplotlib\n",
    "\n",
    "subreddit_labels = []\n",
    "submissions = []\n",
    "votes = []\n",
    "\n",
    "with open('./data/subreddits.csv', newline = '') as subreddits:\n",
    "    r = 0\n",
    "    reader = csv.DictReader(subreddits)\n",
    "    for row in reader:\n",
    "        subreddit_labels.append(row['SUBREDDITS'])\n",
    "        submissions.append(int(row['SUBMISSIONS']))\n",
    "        votes.append(int(row['VOTES']))\n",
    "        r += 1\n",
    "        if r == 5: break\n",
    " "
   ]
  },
  {
   "cell_type": "code",
   "execution_count": 3,
   "metadata": {
    "scrolled": false
   },
   "outputs": [
    {
     "data": {
      "image/png": "[encoded data removed]",
      "text/plain": [
       "<Figure size 432x288 with 1 Axes>"
      ]
     },
     "metadata": {
      "needs_background": "light"
     },
     "output_type": "display_data"
    }
   ],
   "source": [
    "# Generate a bar graph of the top five subreddits.\n",
    "\n",
    "bar_width = 0.35\n",
    "\n",
    "import matplotlib\n",
    "import matplotlib.pyplot as pyplot\n",
    "import numpy\n",
    "\n",
    "x = numpy.arange(len(subreddit_labels))\n",
    "\n",
    "bar_graph, axes = pyplot.subplots()\n",
    "vote_rectangles = axes.bar(x - bar_width/2, votes, bar_width, label='Votes')\n",
    "submission_rectangles = axes.bar(x + bar_width/2, submissions, bar_width, label='Submissions')\n",
    "\n",
    "axes.set_ylabel('Totals')\n",
    "axes.set_title('Top five subreddits by votes and submissions')\n",
    "axes.set_xticks(x)\n",
    "axes.set_xticklabels(subreddit_labels)\n",
    "axes.legend()\n",
    "\n",
    "bar_graph.tight_layout()"
   ]
  },
  {
   "cell_type": "code",
   "execution_count": null,
   "metadata": {},
   "outputs": [],
   "source": []
  }
 ],
 "metadata": {
  "kernelspec": {
   "display_name": "Python 3",
   "language": "python",
   "name": "python3"
  },
  "language_info": {
   "codemirror_mode": {
    "name": "ipython",
    "version": 3
   },
   "file_extension": ".py",
   "mimetype": "text/x-python",
   "name": "python",
   "nbconvert_exporter": "python",
   "pygments_lexer": "ipython3",
   "version": "3.8.3"
  }
 },
 "nbformat": 4,
 "nbformat_minor": 4
}
